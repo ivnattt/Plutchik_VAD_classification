{
  "nbformat": 4,
  "nbformat_minor": 0,
  "metadata": {
    "colab": {
      "name": "Summary",
      "provenance": [],
      "collapsed_sections": [],
      "authorship_tag": "ABX9TyM8laEb83WjYt11CerFpWhQ",
      "include_colab_link": true
    },
    "kernelspec": {
      "name": "python3",
      "display_name": "Python 3"
    }
  },
  "cells": [
    {
      "cell_type": "markdown",
      "metadata": {
        "id": "view-in-github",
        "colab_type": "text"
      },
      "source": [
        "<a href=\"https://colab.research.google.com/github/ivnattt/Plutchik_VAD_classification/blob/master/Summary.ipynb\" target=\"_parent\"><img src=\"https://colab.research.google.com/assets/colab-badge.svg\" alt=\"Open In Colab\"/></a>"
      ]
    },
    {
      "cell_type": "markdown",
      "metadata": {
        "id": "XUMuC1Nmamvj"
      },
      "source": [
        "For Summarization: Scoring sentences on word frequency\n"
      ]
    },
    {
      "cell_type": "code",
      "metadata": {
        "id": "37s08bu2aP6l"
      },
      "source": [
        "import nltk\n",
        "from nltk.corpus import stopwords \n",
        "from nltk.tokenize import sent_tokenize \n",
        "import re"
      ],
      "execution_count": 1,
      "outputs": []
    },
    {
      "cell_type": "code",
      "metadata": {
        "colab": {
          "base_uri": "https://localhost:8080/"
        },
        "id": "tg8S82QVcVyJ",
        "outputId": "39fffc43-c5e3-4488-f960-f161409adbda"
      },
      "source": [
        "nltk.download('stopwords')"
      ],
      "execution_count": 2,
      "outputs": [
        {
          "output_type": "stream",
          "text": [
            "[nltk_data] Downloading package stopwords to /root/nltk_data...\n",
            "[nltk_data]   Unzipping corpora/stopwords.zip.\n"
          ],
          "name": "stdout"
        },
        {
          "output_type": "execute_result",
          "data": {
            "text/plain": [
              "True"
            ]
          },
          "metadata": {
            "tags": []
          },
          "execution_count": 2
        }
      ]
    },
    {
      "cell_type": "code",
      "metadata": {
        "colab": {
          "base_uri": "https://localhost:8080/"
        },
        "id": "oAJnCVh-vSJ3",
        "outputId": "dea15528-bed0-4529-cdd6-1b81b345846c"
      },
      "source": [
        "nltk.download('punkt')"
      ],
      "execution_count": 3,
      "outputs": [
        {
          "output_type": "stream",
          "text": [
            "[nltk_data] Downloading package punkt to /root/nltk_data...\n",
            "[nltk_data]   Unzipping tokenizers/punkt.zip.\n"
          ],
          "name": "stdout"
        },
        {
          "output_type": "execute_result",
          "data": {
            "text/plain": [
              "True"
            ]
          },
          "metadata": {
            "tags": []
          },
          "execution_count": 3
        }
      ]
    },
    {
      "cell_type": "code",
      "metadata": {
        "id": "fO_Zmj62bA0w"
      },
      "source": [
        "def clean_text(text):\n",
        "    # remove backslash-apostrophe \n",
        "    text = re.sub(\"\\'\", \"\", text) \n",
        "    # remove everything except alphabets \n",
        "    text = re.sub(\"[^a-zA-Z]\",\" \",text) \n",
        "    # remove whitespaces \n",
        "    text = ' '.join(text.split()) \n",
        "   \n",
        "    text = text.lower() \n",
        "    return text\n",
        "\n",
        "stop_words = set(stopwords.words('english'))\n",
        "\n",
        "# function to remove stopwords\n",
        "def remove_stopwords(text):\n",
        "    no_stopword_text = [w for w in text if not w in stop_words]\n",
        "    return ' '.join(no_stopword_text)"
      ],
      "execution_count": 4,
      "outputs": []
    },
    {
      "cell_type": "code",
      "metadata": {
        "id": "5rSwcQ_3cOYI"
      },
      "source": [
        "data = \"Fuzzy Logic In the real world, sometimes we face a condition where it is difficult to recognize whether the condition is true or not, their fuzzy logic gives relevant flexibility for reasoning that leads to inaccuracies and uncertainties of any condition.Fuzzy logic is a technique that represents and modifies uncertain information by measuring the degree to which the hypothesis is correct. Fuzzy logic is also used for reasoning about naturally uncertain concepts.Natural Language Processing  Natural language processing depicts the developing methods that assist in communicating with machines using human languages such as English.NLP is the processing of the human language by computer programs, examples include; spam detection by looking at the subject of a line or text of an email and checking if it is junk.NLP tasks are text translation, sentiment analysis, and speech recognition. NLP is used by Twitter to percolate terroristic language from their tweets, by amazon to interpret user reviews and enhance user experience\""
      ],
      "execution_count": 5,
      "outputs": []
    },
    {
      "cell_type": "code",
      "metadata": {
        "id": "tUigEsNriQ5_"
      },
      "source": [
        "data1 = \"This will be short.\""
      ],
      "execution_count": 6,
      "outputs": []
    },
    {
      "cell_type": "code",
      "metadata": {
        "id": "tzs5V8NEcqB3"
      },
      "source": [
        "sentence = data\n",
        "corpuso=clean_text(sentence)\n",
        "corpuso=corpuso.split(' ')\n",
        "corpuso=remove_stopwords(corpuso)\n",
        "corpuso=corpuso.split(' ')"
      ],
      "execution_count": 7,
      "outputs": []
    },
    {
      "cell_type": "code",
      "metadata": {
        "id": "LiJkAB0Ec6qC"
      },
      "source": [
        "freqTable = dict() \n",
        "for word in corpuso: \n",
        "    word = word.lower() \n",
        "    if word in freqTable: \n",
        "        freqTable[word] += 1\n",
        "    else: \n",
        "        freqTable[word] = 1\n",
        "   "
      ],
      "execution_count": 8,
      "outputs": []
    },
    {
      "cell_type": "code",
      "metadata": {
        "id": "if0sPngYdXZQ"
      },
      "source": [
        "sentences = sent_tokenize(data) \n",
        "sentenceValue = dict() \n",
        "   \n",
        "for sentence in sentences: \n",
        "    for word, freq in freqTable.items(): \n",
        "        if word in sentence.lower(): \n",
        "            if sentence in sentenceValue: \n",
        "                sentenceValue[sentence] += freq \n",
        "            else: \n",
        "                sentenceValue[sentence] = freq \n",
        "   \n",
        "   \n",
        "   \n",
        "sumValues = 0\n",
        "for sentence in sentenceValue: \n",
        "    sumValues += sentenceValue[sentence] "
      ],
      "execution_count": 9,
      "outputs": []
    },
    {
      "cell_type": "code",
      "metadata": {
        "colab": {
          "base_uri": "https://localhost:8080/"
        },
        "id": "-Opvl_wVu58G",
        "outputId": "3bb32d41-6749-4528-f913-c7345efc00ee"
      },
      "source": [
        "average = int(sumValues / len(sentenceValue)) \n",
        "   \n",
        "# Storing sentences into our summary. \n",
        "summary = '' \n",
        "\n",
        "for sentence in sentences: \n",
        "    if (sentence in sentenceValue) and (sentenceValue[sentence] > (1.2 * average)): \n",
        "        summary += \" \" + sentence \n",
        "if (len(summary)==0):\n",
        "  print(data)\n",
        "else:\n",
        "  print(summary + str(len(summary))) "
      ],
      "execution_count": 10,
      "outputs": [
        {
          "output_type": "stream",
          "text": [
            " Fuzzy logic is also used for reasoning about naturally uncertain concepts.Natural Language Processing  Natural language processing depicts the developing methods that assist in communicating with machines using human languages such as English.NLP is the processing of the human language by computer programs, examples include; spam detection by looking at the subject of a line or text of an email and checking if it is junk.NLP tasks are text translation, sentiment analysis, and speech recognition.501\n"
          ],
          "name": "stdout"
        }
      ]
    },
    {
      "cell_type": "markdown",
      "metadata": {
        "id": "3Y2JvpM65vi8"
      },
      "source": [
        "**For comparision**:\n",
        "\n",
        "**Result** -  Fuzzy logic is also used for reasoning about naturally uncertain concepts.Natural Language Processing  Natural language processing depicts the developing methods that assist in communicating with machines using human languages such as English.NLP is the processing of the human language by computer programs, examples include; spam detection by looking at the subject of a line or text of an email and checking if it is junk.NLP tasks are text translation, sentiment analysis, and speech recognition.\n",
        "\n",
        "**Original** - Fuzzy Logic In the real world, sometimes we face a condition where it is difficult to recognize whether the condition is true or not, their fuzzy logic gives relevant flexibility for reasoning that leads to inaccuracies and uncertainties of any condition.Fuzzy logic is a technique that represents and modifies uncertain information by measuring the degree to which the hypothesis is correct. Fuzzy logic is also used for reasoning about naturally uncertain concepts.Natural Language Processing  Natural language processing depicts the developing methods that assist in communicating with machines using human languages such as English.NLP is the processing of the human language by computer programs, examples include; spam detection by looking at the subject of a line or text of an email and checking if it is junk.NLP tasks are text translation, sentiment analysis, and speech recognition. NLP is used by Twitter to percolate terroristic language from their tweets, by amazon to interpret user reviews and enhance user experience\n"
      ]
    },
    {
      "cell_type": "code",
      "metadata": {
        "id": "yMd4YQg8Me31"
      },
      "source": [
        ""
      ],
      "execution_count": null,
      "outputs": []
    }
  ]
}