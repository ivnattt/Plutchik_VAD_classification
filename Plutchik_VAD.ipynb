{
 "cells": [
  {
   "cell_type": "code",
   "execution_count": 4,
   "metadata": {},
   "outputs": [],
   "source": [
    "import nltk"
   ]
  },
  {
   "cell_type": "code",
   "execution_count": 5,
   "metadata": {},
   "outputs": [],
   "source": [
    "from nltk.corpus import stopwords"
   ]
  },
  {
   "cell_type": "code",
   "execution_count": 6,
   "metadata": {},
   "outputs": [],
   "source": [
    "import re"
   ]
  },
  {
   "cell_type": "code",
   "execution_count": 7,
   "metadata": {},
   "outputs": [],
   "source": [
    "#from nltk.stem.porter import PorterStemmer"
   ]
  },
  {
   "cell_type": "code",
   "execution_count": 8,
   "metadata": {},
   "outputs": [],
   "source": [
    "#from nltk.stem import WordNetLemmatizer"
   ]
  },
  {
   "cell_type": "code",
   "execution_count": 9,
   "metadata": {},
   "outputs": [],
   "source": [
    "#sentence=\"\"\"During my lifetime I have dedicated myself to this struggle of the African people I have fought against white domination, and I have fought against black domination I have cherished the ideal of a democratic and free society in which all persons live together in harmony and with equal opportunities It is an ideal which I hope to live for and to achieve But if needs be, it is an ideal for which I am prepared to die.\"\"\""
   ]
  },
  {
   "cell_type": "code",
   "execution_count": 10,
   "metadata": {},
   "outputs": [
    {
     "name": "stdout",
     "output_type": "stream",
     "text": [
      "During my lifetime I have dedicated myself to this struggle of the African people I have fought against white domination, and I have fought against black domination I have cherished the ideal of a democratic and free society in which all persons live together in harmony and with equal opportunities It is an ideal which I hope to live for and to achieve But if needs be, it is an ideal for which I am prepared to die.\n"
     ]
    }
   ],
   "source": [
    "sentence=input()"
   ]
  },
  {
   "cell_type": "code",
   "execution_count": 73,
   "metadata": {},
   "outputs": [],
   "source": [
    "#ps= PorterStemmer()\n",
    "#wn= WordNetLemmatizer()\n",
    "\n",
    "#job = nltk.sent_tokenize(sentence)\n",
    "#corpus = []\n",
    "#for i in range(len(job)):\n",
    "    #review = re.sub('[^a-zA-Z]', ' ', job[i])\n",
    "    #review = review.lower()\n",
    "    #review = review.split()\n",
    "    #review = [wn.lemmatize(word) for word in review if not word in set(stopwords.words('english'))]\n",
    "    #review = ' '.join(review)\n",
    "    #corpus.append(review)\n",
    "  "
   ]
  },
  {
   "cell_type": "code",
   "execution_count": 74,
   "metadata": {},
   "outputs": [],
   "source": [
    "#corpuso=clean_text(sentence)\n",
    "#corpuso=corpuso.split(' ')\n",
    "#print(corpuso, len(corpuso))"
   ]
  },
  {
   "cell_type": "code",
   "execution_count": 75,
   "metadata": {},
   "outputs": [],
   "source": [
    "#print(corpuso, len(corpuso))"
   ]
  },
  {
   "cell_type": "code",
   "execution_count": 11,
   "metadata": {},
   "outputs": [],
   "source": [
    "import pandas as pd"
   ]
  },
  {
   "cell_type": "code",
   "execution_count": 12,
   "metadata": {},
   "outputs": [],
   "source": [
    "data=pd.read_excel(\"FIRST_8_EMO.xlsx\")\n",
    "data_vad=pd.read_excel(\"VAD.xlsx\")"
   ]
  },
  {
   "cell_type": "code",
   "execution_count": 13,
   "metadata": {},
   "outputs": [],
   "source": [
    "data.fillna(0, inplace=True)\n",
    "datas=pd.get_dummies(data, columns=['emotion'])"
   ]
  },
  {
   "cell_type": "code",
   "execution_count": 14,
   "metadata": {},
   "outputs": [],
   "source": [
    "\n",
    "datas['emotion_sadness']=datas['emotion_sadness'].multiply(datas['emotion-intensity-score'])\n",
    "datas['emotion_anger']=datas['emotion_anger'].multiply(datas['emotion-intensity-score'])\n",
    "datas['emotion_anticipation']=datas['emotion_anticipation'].multiply(datas['emotion-intensity-score'])\n",
    "datas['emotion_fear']=datas['emotion_fear'].multiply(datas['emotion-intensity-score'])\n",
    "\n",
    "datas['emotion_joy']=datas['emotion_joy'].multiply(datas['emotion-intensity-score'])\n",
    "datas['emotion_disgust']=datas['emotion_disgust'].multiply(datas['emotion-intensity-score'])\n",
    "datas['emotion_surprise']=datas['emotion_surprise'].multiply(datas['emotion-intensity-score'])\n",
    "datas['emotion_trust']=datas['emotion_trust'].multiply(datas['emotion-intensity-score'])\n",
    "\n",
    "del datas['emotion-intensity-score']"
   ]
  },
  {
   "cell_type": "code",
   "execution_count": 15,
   "metadata": {},
   "outputs": [],
   "source": [
    "def clean_text(text):\n",
    "    # remove backslash-apostrophe \n",
    "    text = re.sub(\"\\'\", \"\", text) \n",
    "    # remove everything except alphabets \n",
    "    text = re.sub(\"[^a-zA-Z]\",\" \",text) \n",
    "    # remove whitespaces \n",
    "    text = ' '.join(text.split()) \n",
    "   \n",
    "    text = text.lower() \n",
    "    return text\n",
    "\n",
    "stop_words = set(stopwords.words('english'))\n",
    "\n",
    "# function to remove stopwords\n",
    "def remove_stopwords(text):\n",
    "    no_stopword_text = [w for w in text if not w in stop_words]\n",
    "    return ' '.join(no_stopword_text)"
   ]
  },
  {
   "cell_type": "code",
   "execution_count": 56,
   "metadata": {},
   "outputs": [],
   "source": [
    "def score_vad(sentence):\n",
    "    corpuso=clean_text(sentence)\n",
    "    corpuso=corpuso.split(' ')\n",
    "    corpuso=remove_stopwords(corpuso)\n",
    "    corpuso=corpuso.split(' ')\n",
    "    return data_vad.loc[data_vad['Word'].isin(corpuso)].sum(axis = 0, skipna = True)[1:]\n",
    "\n",
    "def score_emo(sentence):\n",
    "    corpuso=clean_text(sentence)\n",
    "    corpuso=corpuso.split(' ')\n",
    "    corpuso=remove_stopwords(corpuso)\n",
    "    corpuso=corpuso.split(' ')\n",
    "    return datas.loc[datas['word'].isin(corpuso)].sum(axis = 0, skipna = True)[1:]"
   ]
  },
  {
   "cell_type": "code",
   "execution_count": 62,
   "metadata": {},
   "outputs": [],
   "source": [
    "import matplotlib.pyplot as plt\n",
    "%matplotlib inline"
   ]
  },
  {
   "cell_type": "code",
   "execution_count": 63,
   "metadata": {},
   "outputs": [
    {
     "data": {
      "image/png": "[encoded data removed]",
      "text/plain": [
       "<Figure size 720x360 with 1 Axes>"
      ]
     },
     "metadata": {
      "needs_background": "light"
     },
     "output_type": "display_data"
    }
   ],
   "source": [
    "plt.figure(figsize=(10, 5))\n",
    "\n",
    "plt.bar(['anger', 'anticipation', 'disgust', 'fear', 'joy', 'sadness', 'surprise', 'trust'] ,score_emo(sentence))\n",
    "plt.show()"
   ]
  },
  {
   "cell_type": "code",
   "execution_count": 27,
   "metadata": {},
   "outputs": [
    {
     "data": {
      "image/png": "[encoded data removed]",
      "text/plain": [
       "<Figure size 360x504 with 1 Axes>"
      ]
     },
     "metadata": {
      "needs_background": "light"
     },
     "output_type": "display_data"
    }
   ],
   "source": [
    "plt.figure(figsize=(5, 7))\n",
    "\n",
    "plt.bar(['Valence', 'Arousal', 'Dominance'] ,score_vad(sentence))\n",
    "\n",
    "plt.show()"
   ]
  },
  {
   "cell_type": "code",
   "execution_count": null,
   "metadata": {},
   "outputs": [],
   "source": [
    "#OUTPUT : score_vad(sentence) or score_emo(sentence)"
   ]
  },
  {
   "cell_type": "code",
   "execution_count": null,
   "metadata": {},
   "outputs": [],
   "source": [
    "#pickle"
   ]
  },
  {
   "cell_type": "code",
   "execution_count": 68,
   "metadata": {},
   "outputs": [],
   "source": [
    "from nltk.corpus import wordnet\n",
    "\n",
    "data=[]\n",
    "corpuso=clean_text(sentence)\n",
    "corpuso=corpuso.split(' ')\n",
    "corpuso=remove_stopwords(corpuso)\n",
    "corpuso=corpuso.split(' ')\n",
    "\n",
    "for i in range(0, len(corpuso)):\n",
    "    for syn in wordnet.synsets(corpuso[i]):\n",
    "        synonyms = []\n",
    "        antonyms = []\n",
    "        for l in syn.lemmas():\n",
    "            synonyms.append(l.name())\n",
    "            if l.antonyms():\n",
    "                antonyms.append(l.antonyms()[0].name())\n",
    "   \n",
    "    k=[synonyms, antonyms]\n",
    "    data.append(k)"
   ]
  },
  {
   "cell_type": "code",
   "execution_count": 69,
   "metadata": {},
   "outputs": [
    {
     "data": {
      "text/html": [
       "<div>\n",
       "<style scoped>\n",
       "    .dataframe tbody tr th:only-of-type {\n",
       "        vertical-align: middle;\n",
       "    }\n",
       "\n",
       "    .dataframe tbody tr th {\n",
       "        vertical-align: top;\n",
       "    }\n",
       "\n",
       "    .dataframe thead th {\n",
       "        text-align: right;\n",
       "    }\n",
       "</style>\n",
       "<table border=\"1\" class=\"dataframe\">\n",
       "  <thead>\n",
       "    <tr style=\"text-align: right;\">\n",
       "      <th></th>\n",
       "      <th>Synonym</th>\n",
       "      <th>Antonym</th>\n",
       "    </tr>\n",
       "  </thead>\n",
       "  <tbody>\n",
       "    <tr>\n",
       "      <th>lifetime</th>\n",
       "      <td>[life, lifetime, life-time, lifespan]</td>\n",
       "      <td>[]</td>\n",
       "    </tr>\n",
       "    <tr>\n",
       "      <th>dedicated</th>\n",
       "      <td>[consecrated, consecrate, dedicated]</td>\n",
       "      <td>[desecrated]</td>\n",
       "    </tr>\n",
       "    <tr>\n",
       "      <th>struggle</th>\n",
       "      <td>[contend, fight, struggle]</td>\n",
       "      <td>[]</td>\n",
       "    </tr>\n",
       "    <tr>\n",
       "      <th>african</th>\n",
       "      <td>[African]</td>\n",
       "      <td>[]</td>\n",
       "    </tr>\n",
       "    <tr>\n",
       "      <th>people</th>\n",
       "      <td>[people]</td>\n",
       "      <td>[]</td>\n",
       "    </tr>\n",
       "    <tr>\n",
       "      <th>fought</th>\n",
       "      <td>[crusade, fight, press, campaign, push, agitate]</td>\n",
       "      <td>[]</td>\n",
       "    </tr>\n",
       "    <tr>\n",
       "      <th>white</th>\n",
       "      <td>[white]</td>\n",
       "      <td>[]</td>\n",
       "    </tr>\n",
       "    <tr>\n",
       "      <th>domination</th>\n",
       "      <td>[domination, mastery, supremacy]</td>\n",
       "      <td>[]</td>\n",
       "    </tr>\n",
       "    <tr>\n",
       "      <th>fought</th>\n",
       "      <td>[crusade, fight, press, campaign, push, agitate]</td>\n",
       "      <td>[]</td>\n",
       "    </tr>\n",
       "    <tr>\n",
       "      <th>black</th>\n",
       "      <td>[black, smutty]</td>\n",
       "      <td>[]</td>\n",
       "    </tr>\n",
       "    <tr>\n",
       "      <th>domination</th>\n",
       "      <td>[domination, mastery, supremacy]</td>\n",
       "      <td>[]</td>\n",
       "    </tr>\n",
       "    <tr>\n",
       "      <th>cherished</th>\n",
       "      <td>[cherished, precious, treasured, wanted]</td>\n",
       "      <td>[]</td>\n",
       "    </tr>\n",
       "    <tr>\n",
       "      <th>ideal</th>\n",
       "      <td>[ideal, idealistic]</td>\n",
       "      <td>[]</td>\n",
       "    </tr>\n",
       "    <tr>\n",
       "      <th>democratic</th>\n",
       "      <td>[democratic, popular]</td>\n",
       "      <td>[]</td>\n",
       "    </tr>\n",
       "    <tr>\n",
       "      <th>free</th>\n",
       "      <td>[loose, free]</td>\n",
       "      <td>[]</td>\n",
       "    </tr>\n",
       "    <tr>\n",
       "      <th>society</th>\n",
       "      <td>[society, high_society, beau_monde, smart_set,...</td>\n",
       "      <td>[]</td>\n",
       "    </tr>\n",
       "    <tr>\n",
       "      <th>persons</th>\n",
       "      <td>[person]</td>\n",
       "      <td>[]</td>\n",
       "    </tr>\n",
       "    <tr>\n",
       "      <th>live</th>\n",
       "      <td>[live]</td>\n",
       "      <td>[]</td>\n",
       "    </tr>\n",
       "    <tr>\n",
       "      <th>together</th>\n",
       "      <td>[in_concert, together]</td>\n",
       "      <td>[]</td>\n",
       "    </tr>\n",
       "    <tr>\n",
       "      <th>harmony</th>\n",
       "      <td>[harmony]</td>\n",
       "      <td>[dissonance]</td>\n",
       "    </tr>\n",
       "    <tr>\n",
       "      <th>equal</th>\n",
       "      <td>[adequate, equal]</td>\n",
       "      <td>[inadequate]</td>\n",
       "    </tr>\n",
       "    <tr>\n",
       "      <th>opportunities</th>\n",
       "      <td>[opportunity, chance]</td>\n",
       "      <td>[]</td>\n",
       "    </tr>\n",
       "    <tr>\n",
       "      <th>ideal</th>\n",
       "      <td>[ideal, idealistic]</td>\n",
       "      <td>[]</td>\n",
       "    </tr>\n",
       "    <tr>\n",
       "      <th>hope</th>\n",
       "      <td>[hope, go_for]</td>\n",
       "      <td>[]</td>\n",
       "    </tr>\n",
       "    <tr>\n",
       "      <th>live</th>\n",
       "      <td>[live]</td>\n",
       "      <td>[]</td>\n",
       "    </tr>\n",
       "    <tr>\n",
       "      <th>achieve</th>\n",
       "      <td>[achieve, accomplish, attain, reach]</td>\n",
       "      <td>[]</td>\n",
       "    </tr>\n",
       "    <tr>\n",
       "      <th>needs</th>\n",
       "      <td>[inevitably, necessarily, of_necessity, needs]</td>\n",
       "      <td>[]</td>\n",
       "    </tr>\n",
       "    <tr>\n",
       "      <th>ideal</th>\n",
       "      <td>[ideal, idealistic]</td>\n",
       "      <td>[]</td>\n",
       "    </tr>\n",
       "    <tr>\n",
       "      <th>prepared</th>\n",
       "      <td>[prepared]</td>\n",
       "      <td>[]</td>\n",
       "    </tr>\n",
       "    <tr>\n",
       "      <th>die</th>\n",
       "      <td>[die]</td>\n",
       "      <td>[]</td>\n",
       "    </tr>\n",
       "  </tbody>\n",
       "</table>\n",
       "</div>"
      ],
      "text/plain": [
       "                                                         Synonym       Antonym\n",
       "lifetime                   [life, lifetime, life-time, lifespan]            []\n",
       "dedicated                   [consecrated, consecrate, dedicated]  [desecrated]\n",
       "struggle                              [contend, fight, struggle]            []\n",
       "african                                                [African]            []\n",
       "people                                                  [people]            []\n",
       "fought          [crusade, fight, press, campaign, push, agitate]            []\n",
       "white                                                    [white]            []\n",
       "domination                      [domination, mastery, supremacy]            []\n",
       "fought          [crusade, fight, press, campaign, push, agitate]            []\n",
       "black                                            [black, smutty]            []\n",
       "domination                      [domination, mastery, supremacy]            []\n",
       "cherished               [cherished, precious, treasured, wanted]            []\n",
       "ideal                                        [ideal, idealistic]            []\n",
       "democratic                                 [democratic, popular]            []\n",
       "free                                               [loose, free]            []\n",
       "society        [society, high_society, beau_monde, smart_set,...            []\n",
       "persons                                                 [person]            []\n",
       "live                                                      [live]            []\n",
       "together                                  [in_concert, together]            []\n",
       "harmony                                                [harmony]  [dissonance]\n",
       "equal                                          [adequate, equal]  [inadequate]\n",
       "opportunities                              [opportunity, chance]            []\n",
       "ideal                                        [ideal, idealistic]            []\n",
       "hope                                              [hope, go_for]            []\n",
       "live                                                      [live]            []\n",
       "achieve                     [achieve, accomplish, attain, reach]            []\n",
       "needs             [inevitably, necessarily, of_necessity, needs]            []\n",
       "ideal                                        [ideal, idealistic]            []\n",
       "prepared                                              [prepared]            []\n",
       "die                                                        [die]            []"
      ]
     },
     "execution_count": 69,
     "metadata": {},
     "output_type": "execute_result"
    }
   ],
   "source": [
    "pd.DataFrame(data, columns=[\"Synonym\", \"Antonym\"], index=corpuso)"
   ]
  },
  {
   "cell_type": "code",
   "execution_count": null,
   "metadata": {},
   "outputs": [],
   "source": []
  }
 ],
 "metadata": {
  "kernelspec": {
   "display_name": "Python 3",
   "language": "python",
   "name": "python3"
  },
  "language_info": {
   "codemirror_mode": {
    "name": "ipython",
    "version": 3
   },
   "file_extension": ".py",
   "mimetype": "text/x-python",
   "name": "python",
   "nbconvert_exporter": "python",
   "pygments_lexer": "ipython3",
   "version": "3.7.6"
  }
 },
 "nbformat": 4,
 "nbformat_minor": 4
}
